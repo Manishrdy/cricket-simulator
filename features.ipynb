{
 "cells": [
  {
   "cell_type": "code",
   "execution_count": 33,
   "id": "16d896ca",
   "metadata": {},
   "outputs": [],
   "source": [
    "import pandas as pd\n",
    "import numpy as np"
   ]
  },
  {
   "cell_type": "code",
   "execution_count": 34,
   "id": "3e5c53d0",
   "metadata": {},
   "outputs": [],
   "source": [
    "df = pd.read_csv('all_matches.csv')"
   ]
  },
  {
   "cell_type": "code",
   "execution_count": 35,
   "id": "479b26f5",
   "metadata": {},
   "outputs": [
    {
     "data": {
      "text/plain": [
       "match_id                    int64\n",
       "season                     object\n",
       "start_date                 object\n",
       "venue                      object\n",
       "innings                     int64\n",
       "ball                      float64\n",
       "batting_team               object\n",
       "bowling_team               object\n",
       "striker                    object\n",
       "non_striker                object\n",
       "bowler                     object\n",
       "runs_off_bat                int64\n",
       "extras                      int64\n",
       "wides                     float64\n",
       "noballs                   float64\n",
       "byes                      float64\n",
       "legbyes                   float64\n",
       "penalty                   float64\n",
       "wicket_type                object\n",
       "player_dismissed           object\n",
       "other_wicket_type         float64\n",
       "other_player_dismissed    float64\n",
       "dtype: object"
      ]
     },
     "execution_count": 35,
     "metadata": {},
     "output_type": "execute_result"
    }
   ],
   "source": [
    "df.dtypes"
   ]
  },
  {
   "cell_type": "code",
   "execution_count": 36,
   "id": "0c8247ea",
   "metadata": {},
   "outputs": [],
   "source": [
    "df['ball'] = None\n",
    "\n",
    "# We will use a variable to keep track of the current over and ball\n",
    "current_over = 0\n",
    "current_ball = 1\n",
    "\n",
    "# Iterate over the DataFrame rows\n",
    "for i, row in df.iterrows():\n",
    "    wides = row['wides']  # Assuming 'wides' column exists and records the number of wides\n",
    "    noballs = row['noballs']  # Assuming 'noballs' column exists and records the number of no-balls\n",
    "\n",
    "    # Set the 'ball' column with the current over and ball\n",
    "    df.at[i, 'ball'] = f\"{current_over}.{current_ball}\"\n",
    "\n",
    "    # If the delivery is legal, increment the balls\n",
    "    if pd.isna(wides) and pd.isna(noballs):  # Assuming NaN values indicate no wides or no-balls\n",
    "        if current_ball == 6:\n",
    "            current_over += 1\n",
    "            current_ball = 1\n",
    "        else:\n",
    "            current_ball += 1\n",
    "    # If the delivery is a wide or no-ball, do not increment the balls"
   ]
  },
  {
   "cell_type": "code",
   "execution_count": 38,
   "id": "470c5e1b",
   "metadata": {},
   "outputs": [
    {
     "data": {
      "text/plain": [
       "Index(['match_id', 'season', 'start_date', 'venue', 'innings', 'ball',\n",
       "       'batting_team', 'bowling_team', 'striker', 'non_striker', 'bowler',\n",
       "       'runs_off_bat', 'extras', 'wides', 'noballs', 'byes', 'legbyes',\n",
       "       'penalty', 'wicket_type', 'player_dismissed', 'other_wicket_type',\n",
       "       'other_player_dismissed'],\n",
       "      dtype='object')"
      ]
     },
     "execution_count": 38,
     "metadata": {},
     "output_type": "execute_result"
    }
   ],
   "source": [
    "df.columns"
   ]
  },
  {
   "cell_type": "code",
   "execution_count": 39,
   "id": "367d89e3",
   "metadata": {},
   "outputs": [],
   "source": [
    "innings1_runs = df[df['innings'] == 1].groupby('match_id')['runs_off_bat'].sum()\n",
    "\n",
    "# Map the sum to innings 2 rows based on match_id\n",
    "df['target'] = df.apply(lambda x: innings1_runs.get(x['match_id']) if x['innings'] == 2 else None, axis=1)"
   ]
  },
  {
   "cell_type": "code",
   "execution_count": 40,
   "id": "682e1c25",
   "metadata": {},
   "outputs": [],
   "source": [
    "df['target'] = df.apply(lambda x: innings1_runs.get(x['match_id']) if x['innings'] == 2 else 0, axis=1)"
   ]
  },
  {
   "cell_type": "code",
   "execution_count": 43,
   "id": "cb33c3a7",
   "metadata": {},
   "outputs": [],
   "source": [
    "# Assume df has a column 'overs' with string representations of over and ball, like '0.1', '0.2', ..., '19.6'\n",
    "\n",
    "# Create 'over' and 'ball' columns from 'overs'\n",
    "df['over'] = df['overs'].apply(lambda x: int(x.split('.')[0]))\n",
    "df['ball'] = df['overs'].apply(lambda x: int(x.split('.')[1]))"
   ]
  },
  {
   "cell_type": "code",
   "execution_count": 44,
   "id": "6185e663",
   "metadata": {},
   "outputs": [],
   "source": [
    "# Create new column 'isPlayerOut' \n",
    "df['isPlayerOut'] = 0\n",
    "# Check for null, update as 0  \n",
    "df.loc[df['player_dismissed'].isna(), 'isPlayerOut'] = 0\n",
    "# Else update as 1\n",
    "df.loc[df['player_dismissed'].notna(), 'isPlayerOut'] = 1"
   ]
  },
  {
   "cell_type": "code",
   "execution_count": 45,
   "id": "60442e84",
   "metadata": {},
   "outputs": [],
   "source": [
    "# Initialize new columns\n",
    "df['striker_total_runs'] = 0\n",
    "df['non_striker_total_runs'] = 0"
   ]
  },
  {
   "cell_type": "code",
   "execution_count": 46,
   "id": "cd4ff838",
   "metadata": {},
   "outputs": [],
   "source": [
    "# Initialize a dictionary to keep track of the players' total runs\n",
    "player_runs = {}\n",
    "\n",
    "# Initialize columns for striker_total_runs and non_striker_total_runs\n",
    "df['striker_total_runs'] = 0\n",
    "df['non_striker_total_runs'] = 0\n",
    "\n",
    "# Process each row in the DataFrame\n",
    "for i, row in df.iterrows():\n",
    "    striker = row['striker']\n",
    "    non_striker = row['non_striker']\n",
    "    runs_off_bat = row['runs_off_bat']\n",
    "    isPlayerOut = row['isPlayerOut']\n",
    "\n",
    "    # Update the total runs for the striker and non-striker\n",
    "    player_runs[striker] = player_runs.get(striker, 0) + runs_off_bat\n",
    "    player_runs[non_striker] = player_runs.get(non_striker, 0)\n",
    "\n",
    "    # Assign the total runs to the dataframe\n",
    "    df.at[i, 'striker_total_runs'] = player_runs[striker]\n",
    "    df.at[i, 'non_striker_total_runs'] = player_runs[non_striker]\n",
    "\n",
    "    # If a player is out, reset their score\n",
    "    if isPlayerOut:\n",
    "        # Check the next row to see if striker or non_striker has changed\n",
    "        if i < len(df) - 1: \n",
    "            next_row = df.iloc[i + 1]\n",
    "            if next_row['striker'] != striker:\n",
    "                player_runs[striker] = 0\n",
    "            if next_row['non_striker'] != non_striker:\n",
    "                player_runs[non_striker] = 0"
   ]
  },
  {
   "cell_type": "code",
   "execution_count": 47,
   "id": "065367d0",
   "metadata": {},
   "outputs": [],
   "source": [
    "# Ensure that 'extras' column exists and is integer\n",
    "if 'extras' not in df.columns:\n",
    "    df['extras'] = 0\n",
    "else:\n",
    "    df['extras'] = df['extras'].fillna(0).astype(int)\n",
    "\n",
    "# Initialize columns for bowler_wickets and bowler_runs\n",
    "df['bowler_wickets'] = 0\n",
    "df['bowler_runs'] = 0\n",
    "\n",
    "# Initialize a dictionary to keep track of the bowlers' stats\n",
    "bowler_stats = {}\n",
    "\n",
    "# Process each row in the DataFrame\n",
    "for i, row in df.iterrows():\n",
    "    match_id = row['match_id']\n",
    "    innings = row['innings']\n",
    "    bowler = row['bowler']\n",
    "    runs_conceded = row['runs_off_bat'] + row['extras']\n",
    "    is_wicket = row['isPlayerOut']\n",
    "\n",
    "    # Initialize the bowler's stats if not already present\n",
    "    if (match_id, innings, bowler) not in bowler_stats:\n",
    "        bowler_stats[(match_id, innings, bowler)] = {'wickets': 0, 'runs': 0}\n",
    "\n",
    "    # Update bowler stats\n",
    "    bowler_stats[(match_id, innings, bowler)]['runs'] += runs_conceded\n",
    "    if is_wicket:\n",
    "        bowler_stats[(match_id, innings, bowler)]['wickets'] += 1\n",
    "\n",
    "    # Assign the running totals to the DataFrame\n",
    "    df.at[i, 'bowler_wickets'] = bowler_stats[(match_id, innings, bowler)]['wickets']\n",
    "    df.at[i, 'bowler_runs'] = bowler_stats[(match_id, innings, bowler)]['runs']\n"
   ]
  },
  {
   "cell_type": "code",
   "execution_count": 48,
   "id": "64e4f0a9",
   "metadata": {},
   "outputs": [],
   "source": [
    "# Calculate the team score for each ball and then the cumulative sum within each group\n",
    "df['team_score'] = (df['runs_off_bat'] + df['extras']).groupby([df['match_id'], df['innings']]).cumsum()"
   ]
  },
  {
   "cell_type": "code",
   "execution_count": 49,
   "id": "95f58c97",
   "metadata": {},
   "outputs": [],
   "source": [
    "# Calculate the total wickets fallen per ball as a cumulative sum within each group\n",
    "df['team_wickets'] = df.groupby(['match_id', 'innings'])['isPlayerOut'].cumsum()"
   ]
  },
  {
   "cell_type": "code",
   "execution_count": 50,
   "id": "3a4adb3f",
   "metadata": {},
   "outputs": [],
   "source": [
    "# Initialize the new columns with zeros\n",
    "df['striker_balls'] = 0\n",
    "df['non_striker_balls'] = 0\n",
    "\n",
    "# We will use a dictionary to keep track of the balls faced by each player\n",
    "player_balls = {}\n",
    "\n",
    "# Initialize variables to store the current striker and non-striker\n",
    "current_striker = None\n",
    "current_non_striker = None\n",
    "\n",
    "# Function to swap the players and their ball counts\n",
    "def swap_balls():\n",
    "    global current_striker, current_non_striker\n",
    "    current_striker, current_non_striker = current_non_striker, current_striker\n",
    "\n",
    "# Iterate over the DataFrame rows\n",
    "for i in range(len(df)):\n",
    "    # Get current row details\n",
    "    row = df.iloc[i]\n",
    "    \n",
    "    # If it's the first ball or new players are in, initialize them\n",
    "    if current_striker != row['striker'] or current_striker is None:\n",
    "        if current_striker is not None:\n",
    "            # Swap the players if the striker has changed, not if it's the first ball\n",
    "            swap_balls()\n",
    "        current_striker = row['striker']\n",
    "        current_non_striker = row['non_striker']\n",
    "        if current_striker not in player_balls:\n",
    "            player_balls[current_striker] = 0\n",
    "        if current_non_striker not in player_balls:\n",
    "            player_balls[current_non_striker] = 0\n",
    "    \n",
    "    # Increment the ball count for the current striker\n",
    "    player_balls[current_striker] += 1\n",
    "    \n",
    "    # Update the DataFrame with the current ball count for striker and non-striker\n",
    "    df.at[i, 'striker_balls'] = player_balls[current_striker]\n",
    "    df.at[i, 'non_striker_balls'] = player_balls[current_non_striker]\n",
    "\n",
    "    # If the player is out, check who will be out in the next delivery\n",
    "    if row['isPlayerOut'] == 1 and i < len(df) - 1:\n",
    "        next_row = df.iloc[i + 1]\n",
    "        # If the striker in the next delivery is different, the current striker got out\n",
    "        if current_striker != next_row['striker']:\n",
    "            player_balls[current_striker] = 0\n",
    "        # If the non-striker in the next delivery is different, the current non-striker got out\n",
    "        elif current_non_striker != next_row['non_striker']:\n",
    "            player_balls[current_non_striker] = 0"
   ]
  },
  {
   "cell_type": "code",
   "execution_count": 51,
   "id": "9c10cffc",
   "metadata": {},
   "outputs": [],
   "source": [
    "df['batsman_4s'] = 0\n",
    "df['batsman_6s'] = 0\n",
    "\n",
    "# We will use a dictionary to keep track of the 4s and 6s scored by each player\n",
    "player_4s = {}\n",
    "player_6s = {}\n",
    "\n",
    "# Iterate over the DataFrame rows\n",
    "for i, row in df.iterrows():\n",
    "    striker = row['striker']\n",
    "    runs_off_bat = row['runs_off_bat']\n",
    "\n",
    "    # Initialize the player in the dictionaries if they're not already present\n",
    "    if striker not in player_4s:\n",
    "        player_4s[striker] = 0\n",
    "    if striker not in player_6s:\n",
    "        player_6s[striker] = 0\n",
    "\n",
    "    # Update the count if a boundary is hit\n",
    "    if runs_off_bat == 4:\n",
    "        player_4s[striker] += 1\n",
    "    elif runs_off_bat == 6:\n",
    "        player_6s[striker] += 1\n",
    "\n",
    "    # Update the DataFrame with the current 4s and 6s for the striker\n",
    "    df.at[i, 'batsman_4s'] = player_4s[striker]\n",
    "    df.at[i, 'batsman_6s'] = player_6s[striker]"
   ]
  },
  {
   "cell_type": "code",
   "execution_count": 52,
   "id": "6257d337",
   "metadata": {},
   "outputs": [
    {
     "data": {
      "text/plain": [
       "match_id                    int64\n",
       "season                     object\n",
       "start_date                 object\n",
       "venue                      object\n",
       "innings                     int64\n",
       "overs                      object\n",
       "batting_team               object\n",
       "bowling_team               object\n",
       "striker                    object\n",
       "non_striker                object\n",
       "bowler                     object\n",
       "runs_off_bat                int64\n",
       "extras                      int32\n",
       "wides                     float64\n",
       "noballs                   float64\n",
       "byes                      float64\n",
       "legbyes                   float64\n",
       "penalty                   float64\n",
       "wicket_type                object\n",
       "player_dismissed           object\n",
       "other_wicket_type         float64\n",
       "other_player_dismissed    float64\n",
       "target                      int64\n",
       "over                        int64\n",
       "ball                        int64\n",
       "isPlayerOut                 int64\n",
       "striker_total_runs          int64\n",
       "non_striker_total_runs      int64\n",
       "bowler_wickets              int64\n",
       "bowler_runs                 int64\n",
       "team_score                  int64\n",
       "team_wickets                int64\n",
       "striker_balls               int64\n",
       "non_striker_balls           int64\n",
       "batsman_4s                  int64\n",
       "batsman_6s                  int64\n",
       "dtype: object"
      ]
     },
     "execution_count": 52,
     "metadata": {},
     "output_type": "execute_result"
    }
   ],
   "source": [
    "df.dtypes"
   ]
  },
  {
   "cell_type": "code",
   "execution_count": 53,
   "id": "09e205c3",
   "metadata": {},
   "outputs": [],
   "source": [
    "df['bowler_balls_bowled'] = 0\n",
    "\n",
    "# We will use a dictionary to keep track of the balls bowled by each bowler in each match and innings\n",
    "bowler_balls = {}\n",
    "\n",
    "# Iterate over the DataFrame rows\n",
    "for i, row in df.iterrows():\n",
    "    match_id = row['match_id']\n",
    "    innings = row['innings']\n",
    "    bowler = row['bowler']\n",
    "\n",
    "    # Initialize the bowler in the dictionary if they're not already present for the match and innings\n",
    "    if (match_id, innings, bowler) not in bowler_balls:\n",
    "        bowler_balls[(match_id, innings, bowler)] = 0\n",
    "\n",
    "    # Increment the ball count for the bowler for the specific match and innings\n",
    "    bowler_balls[(match_id, innings, bowler)] += 1\n",
    "\n",
    "    # Update the DataFrame with the current ball count for the bowler\n",
    "    df.at[i, 'bowler_balls_bowled'] = bowler_balls[(match_id, innings, bowler)]"
   ]
  },
  {
   "cell_type": "code",
   "execution_count": 54,
   "id": "cb2da694",
   "metadata": {},
   "outputs": [
    {
     "name": "stdout",
     "output_type": "stream",
     "text": [
      "       match_id  innings            bowler  bowler_balls_bowled\n",
      "0        682897        1  Mashrafe Mortaza                    1\n",
      "1        682897        1  Mashrafe Mortaza                    2\n",
      "2        682897        1  Mashrafe Mortaza                    3\n",
      "3        682897        1  Mashrafe Mortaza                    4\n",
      "4        682897        1  Mashrafe Mortaza                    5\n",
      "...         ...      ...               ...                  ...\n",
      "35256   1298179        2    Mohammad Wasim                   22\n",
      "35257   1298179        2    Mohammad Wasim                   23\n",
      "35258   1298179        2    Mohammad Wasim                   24\n",
      "35259   1298179        2    Mohammad Wasim                   25\n",
      "35260   1298179        2    Mohammad Wasim                   26\n",
      "\n",
      "[35261 rows x 4 columns]\n"
     ]
    }
   ],
   "source": [
    "# Display the DataFrame to verify the results\n",
    "print(df[['match_id', 'innings', 'bowler', 'bowler_balls_bowled']])"
   ]
  },
  {
   "cell_type": "code",
   "execution_count": 55,
   "id": "1a353698",
   "metadata": {},
   "outputs": [
    {
     "name": "stdout",
     "output_type": "stream",
     "text": [
      "       match_id  innings  runs_off_bat  extras  team_score\n",
      "0        682897        1             0       0           0\n",
      "1        682897        1             0       1           1\n",
      "2        682897        1             0       0           1\n",
      "3        682897        1             0       0           1\n",
      "4        682897        1             0       0           1\n",
      "...         ...      ...           ...     ...         ...\n",
      "35256   1298179        2             0       0         132\n",
      "35257   1298179        2             1       0         133\n",
      "35258   1298179        2             4       0         137\n",
      "35259   1298179        2             0       0         137\n",
      "35260   1298179        2             1       0         138\n",
      "\n",
      "[35261 rows x 5 columns]\n"
     ]
    }
   ],
   "source": [
    "import pandas as pd\n",
    "\n",
    "# Assuming 'df' is your DataFrame with the necessary columns\n",
    "\n",
    "# Initialize the new column with zeros\n",
    "df['team_score'] = 0\n",
    "\n",
    "# We will use a dictionary to keep track of the team score for each match and innings\n",
    "team_scores = {}\n",
    "\n",
    "# Iterate over the DataFrame rows\n",
    "for i, row in df.iterrows():\n",
    "    match_id = row['match_id']\n",
    "    innings = row['innings']\n",
    "    runs_off_bat = row['runs_off_bat']\n",
    "    extras = row['extras']  # Assuming 'extras' column exists and has the extra runs\n",
    "\n",
    "    # Initialize the team score in the dictionary if they're not already present for the match and innings\n",
    "    if (match_id, innings) not in team_scores:\n",
    "        team_scores[(match_id, innings)] = 0\n",
    "\n",
    "    # Increment the team score for the specific match and innings\n",
    "    team_scores[(match_id, innings)] += runs_off_bat + extras\n",
    "\n",
    "    # Update the DataFrame with the current team score\n",
    "    df.at[i, 'team_score'] = team_scores[(match_id, innings)]\n",
    "\n",
    "# Display the DataFrame to verify the results\n",
    "print(df[['match_id', 'innings', 'runs_off_bat', 'extras', 'team_score']])"
   ]
  },
  {
   "cell_type": "code",
   "execution_count": 56,
   "id": "b2e389fe",
   "metadata": {},
   "outputs": [
    {
     "name": "stdout",
     "output_type": "stream",
     "text": [
      "       match_id  innings  isPlayerOut  remaining_wickets\n",
      "0        682897        1            1                  9\n",
      "1        682897        1            0                  9\n",
      "2        682897        1            0                  9\n",
      "3        682897        1            0                  9\n",
      "4        682897        1            0                  9\n",
      "...         ...      ...          ...                ...\n",
      "35256   1298179        2            1                  5\n",
      "35257   1298179        2            0                  5\n",
      "35258   1298179        2            0                  5\n",
      "35259   1298179        2            0                  5\n",
      "35260   1298179        2            0                  5\n",
      "\n",
      "[35261 rows x 4 columns]\n"
     ]
    }
   ],
   "source": [
    "# Initialize the new column with tens\n",
    "df['remaining_wickets'] = 10\n",
    "\n",
    "# We will use a dictionary to keep track of the remaining wickets for each match and innings\n",
    "wickets_remaining = {}\n",
    "\n",
    "# Iterate over the DataFrame rows\n",
    "for i, row in df.iterrows():\n",
    "    match_id = row['match_id']\n",
    "    innings = row['innings']\n",
    "    is_player_out = row['isPlayerOut']  # Assuming 'isPlayerOut' column is 1 if a player is out\n",
    "\n",
    "    # Initialize the wickets remaining in the dictionary if they're not already present for the match and innings\n",
    "    if (match_id, innings) not in wickets_remaining:\n",
    "        wickets_remaining[(match_id, innings)] = 10\n",
    "\n",
    "    # Decrement the wickets remaining if a player is out\n",
    "    if is_player_out == 1:\n",
    "        wickets_remaining[(match_id, innings)] -= 1\n",
    "\n",
    "    # Update the DataFrame with the current number of remaining wickets\n",
    "    df.at[i, 'remaining_wickets'] = wickets_remaining[(match_id, innings)]\n",
    "\n",
    "# Display the DataFrame to verify the results\n",
    "print(df[['match_id', 'innings', 'isPlayerOut', 'remaining_wickets']])"
   ]
  },
  {
   "cell_type": "code",
   "execution_count": 58,
   "id": "80a229b6",
   "metadata": {},
   "outputs": [],
   "source": [
    "df['remaining_balls'] = 120\n",
    "\n",
    "# We will use a dictionary to keep track of the remaining balls for each match and innings\n",
    "balls_remaining = {}\n",
    "\n",
    "# Iterate over the DataFrame rows\n",
    "for i, row in df.iterrows():\n",
    "    match_id = row['match_id']\n",
    "    innings = row['innings']\n",
    "    wides = row['wides']  # Assuming 'wides' column exists and records the number of wides\n",
    "    noballs = row['noballs']  # Assuming 'noballs' column exists and records the number of no-balls\n",
    "\n",
    "    # Initialize the balls remaining in the dictionary if they're not already present for the match and innings\n",
    "    if (match_id, innings) not in balls_remaining:\n",
    "        balls_remaining[(match_id, innings)] = 120\n",
    "\n",
    "    # Decrement the balls remaining if it's not a wide or no-ball\n",
    "    if pd.isna(wides) and pd.isna(noballs):  # Assuming NaN values indicate no wides or no-balls\n",
    "        balls_remaining[(match_id, innings)] -= 1\n",
    "\n",
    "    # Update the DataFrame with the current number of remaining balls\n",
    "    df.at[i, 'remaining_balls'] = balls_remaining[(match_id, innings)]"
   ]
  },
  {
   "cell_type": "code",
   "execution_count": 59,
   "id": "0c816673",
   "metadata": {},
   "outputs": [
    {
     "data": {
      "text/plain": [
       "Index(['match_id', 'season', 'start_date', 'venue', 'innings', 'overs',\n",
       "       'batting_team', 'bowling_team', 'striker', 'non_striker', 'bowler',\n",
       "       'runs_off_bat', 'extras', 'wides', 'noballs', 'byes', 'legbyes',\n",
       "       'penalty', 'wicket_type', 'player_dismissed', 'other_wicket_type',\n",
       "       'other_player_dismissed', 'target', 'over', 'ball', 'isPlayerOut',\n",
       "       'striker_total_runs', 'non_striker_total_runs', 'bowler_wickets',\n",
       "       'bowler_runs', 'team_score', 'team_wickets', 'striker_balls',\n",
       "       'non_striker_balls', 'batsman_4s', 'batsman_6s', 'bowler_balls_bowled',\n",
       "       'remaining_wickets', 'remaining_balls'],\n",
       "      dtype='object')"
      ]
     },
     "execution_count": 59,
     "metadata": {},
     "output_type": "execute_result"
    }
   ],
   "source": [
    "df.columns"
   ]
  },
  {
   "cell_type": "code",
   "execution_count": 63,
   "id": "b3bda4df",
   "metadata": {},
   "outputs": [],
   "source": [
    "# Initialize the runs_to_win column with zeros\n",
    "df['runs_to_win'] = 0\n",
    "\n",
    "# Define a function to calculate runs to win for the second innings\n",
    "def calculate_runs_to_win(row):\n",
    "    if row['innings'] == 2:\n",
    "        return max(row['target'] - row['team_score'], 0)\n",
    "    else:\n",
    "        return 0\n",
    "\n",
    "# Apply the function to each row in the dataframe\n",
    "df['runs_to_win'] = df.apply(calculate_runs_to_win, axis=1)\n",
    "\n",
    "# Convert runs_to_win column to an integer type\n",
    "df['runs_to_win'] = df['runs_to_win'].astype(int)"
   ]
  },
  {
   "cell_type": "code",
   "execution_count": 64,
   "id": "823e729a",
   "metadata": {},
   "outputs": [
    {
     "data": {
      "text/plain": [
       "match_id                    int64\n",
       "season                     object\n",
       "start_date                 object\n",
       "venue                      object\n",
       "innings                     int64\n",
       "overs                      object\n",
       "batting_team               object\n",
       "bowling_team               object\n",
       "striker                    object\n",
       "non_striker                object\n",
       "bowler                     object\n",
       "runs_off_bat                int64\n",
       "extras                      int32\n",
       "wides                     float64\n",
       "noballs                   float64\n",
       "byes                      float64\n",
       "legbyes                   float64\n",
       "penalty                   float64\n",
       "wicket_type                object\n",
       "player_dismissed           object\n",
       "other_wicket_type         float64\n",
       "other_player_dismissed    float64\n",
       "target                      int64\n",
       "over                        int64\n",
       "ball                        int64\n",
       "isPlayerOut                 int64\n",
       "striker_total_runs          int64\n",
       "non_striker_total_runs      int64\n",
       "bowler_wickets              int64\n",
       "bowler_runs                 int64\n",
       "team_score                  int64\n",
       "team_wickets                int64\n",
       "striker_balls               int64\n",
       "non_striker_balls           int64\n",
       "batsman_4s                  int64\n",
       "batsman_6s                  int64\n",
       "bowler_balls_bowled         int64\n",
       "remaining_wickets           int64\n",
       "remaining_balls             int64\n",
       "runs_to_win                 int32\n",
       "dtype: object"
      ]
     },
     "execution_count": 64,
     "metadata": {},
     "output_type": "execute_result"
    }
   ],
   "source": [
    "df.dtypes"
   ]
  },
  {
   "cell_type": "code",
   "execution_count": 66,
   "id": "8959d44b",
   "metadata": {},
   "outputs": [],
   "source": [
    "df.to_csv('aa.csv', index=False)"
   ]
  },
  {
   "cell_type": "code",
   "execution_count": null,
   "id": "d97adf5b",
   "metadata": {},
   "outputs": [],
   "source": []
  }
 ],
 "metadata": {
  "kernelspec": {
   "display_name": "Python 3 (ipykernel)",
   "language": "python",
   "name": "python3"
  },
  "language_info": {
   "codemirror_mode": {
    "name": "ipython",
    "version": 3
   },
   "file_extension": ".py",
   "mimetype": "text/x-python",
   "name": "python",
   "nbconvert_exporter": "python",
   "pygments_lexer": "ipython3",
   "version": "3.11.4"
  }
 },
 "nbformat": 4,
 "nbformat_minor": 5
}
