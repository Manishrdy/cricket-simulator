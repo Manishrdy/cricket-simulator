{
 "cells": [
  {
   "cell_type": "code",
   "execution_count": 1,
   "id": "3dfb4f99",
   "metadata": {},
   "outputs": [],
   "source": [
    "import pandas as pd\n",
    "import numpy as np"
   ]
  },
  {
   "cell_type": "code",
   "execution_count": 2,
   "id": "39927275",
   "metadata": {},
   "outputs": [
    {
     "name": "stderr",
     "output_type": "stream",
     "text": [
      "C:\\Users\\manis\\AppData\\Local\\Temp\\ipykernel_23632\\714940151.py:1: DtypeWarning: Columns (1,20,21) have mixed types. Specify dtype option on import or set low_memory=False.\n",
      "  df = pd.read_csv('t20_master.csv')\n"
     ]
    }
   ],
   "source": [
    "df = pd.read_csv('t20_master.csv')"
   ]
  },
  {
   "cell_type": "code",
   "execution_count": 3,
   "id": "2b60be08",
   "metadata": {},
   "outputs": [
    {
     "data": {
      "text/html": [
       "<div>\n",
       "<style scoped>\n",
       "    .dataframe tbody tr th:only-of-type {\n",
       "        vertical-align: middle;\n",
       "    }\n",
       "\n",
       "    .dataframe tbody tr th {\n",
       "        vertical-align: top;\n",
       "    }\n",
       "\n",
       "    .dataframe thead th {\n",
       "        text-align: right;\n",
       "    }\n",
       "</style>\n",
       "<table border=\"1\" class=\"dataframe\">\n",
       "  <thead>\n",
       "    <tr style=\"text-align: right;\">\n",
       "      <th></th>\n",
       "      <th>match_id</th>\n",
       "      <th>season</th>\n",
       "      <th>start_date</th>\n",
       "      <th>venue</th>\n",
       "      <th>innings</th>\n",
       "      <th>ball</th>\n",
       "      <th>batting_team</th>\n",
       "      <th>bowling_team</th>\n",
       "      <th>striker</th>\n",
       "      <th>non_striker</th>\n",
       "      <th>...</th>\n",
       "      <th>extras</th>\n",
       "      <th>wides</th>\n",
       "      <th>noballs</th>\n",
       "      <th>byes</th>\n",
       "      <th>legbyes</th>\n",
       "      <th>penalty</th>\n",
       "      <th>wicket_type</th>\n",
       "      <th>player_dismissed</th>\n",
       "      <th>other_wicket_type</th>\n",
       "      <th>other_player_dismissed</th>\n",
       "    </tr>\n",
       "  </thead>\n",
       "  <tbody>\n",
       "    <tr>\n",
       "      <th>0</th>\n",
       "      <td>1001349</td>\n",
       "      <td>2016/17</td>\n",
       "      <td>2017-02-17</td>\n",
       "      <td>Melbourne Cricket Ground</td>\n",
       "      <td>1</td>\n",
       "      <td>0.1</td>\n",
       "      <td>Australia</td>\n",
       "      <td>Sri Lanka</td>\n",
       "      <td>AJ Finch</td>\n",
       "      <td>M Klinger</td>\n",
       "      <td>...</td>\n",
       "      <td>0</td>\n",
       "      <td>NaN</td>\n",
       "      <td>NaN</td>\n",
       "      <td>NaN</td>\n",
       "      <td>NaN</td>\n",
       "      <td>NaN</td>\n",
       "      <td>NaN</td>\n",
       "      <td>NaN</td>\n",
       "      <td>NaN</td>\n",
       "      <td>NaN</td>\n",
       "    </tr>\n",
       "    <tr>\n",
       "      <th>1</th>\n",
       "      <td>1001349</td>\n",
       "      <td>2016/17</td>\n",
       "      <td>2017-02-17</td>\n",
       "      <td>Melbourne Cricket Ground</td>\n",
       "      <td>1</td>\n",
       "      <td>0.2</td>\n",
       "      <td>Australia</td>\n",
       "      <td>Sri Lanka</td>\n",
       "      <td>AJ Finch</td>\n",
       "      <td>M Klinger</td>\n",
       "      <td>...</td>\n",
       "      <td>0</td>\n",
       "      <td>NaN</td>\n",
       "      <td>NaN</td>\n",
       "      <td>NaN</td>\n",
       "      <td>NaN</td>\n",
       "      <td>NaN</td>\n",
       "      <td>NaN</td>\n",
       "      <td>NaN</td>\n",
       "      <td>NaN</td>\n",
       "      <td>NaN</td>\n",
       "    </tr>\n",
       "    <tr>\n",
       "      <th>2</th>\n",
       "      <td>1001349</td>\n",
       "      <td>2016/17</td>\n",
       "      <td>2017-02-17</td>\n",
       "      <td>Melbourne Cricket Ground</td>\n",
       "      <td>1</td>\n",
       "      <td>0.3</td>\n",
       "      <td>Australia</td>\n",
       "      <td>Sri Lanka</td>\n",
       "      <td>AJ Finch</td>\n",
       "      <td>M Klinger</td>\n",
       "      <td>...</td>\n",
       "      <td>0</td>\n",
       "      <td>NaN</td>\n",
       "      <td>NaN</td>\n",
       "      <td>NaN</td>\n",
       "      <td>NaN</td>\n",
       "      <td>NaN</td>\n",
       "      <td>NaN</td>\n",
       "      <td>NaN</td>\n",
       "      <td>NaN</td>\n",
       "      <td>NaN</td>\n",
       "    </tr>\n",
       "    <tr>\n",
       "      <th>3</th>\n",
       "      <td>1001349</td>\n",
       "      <td>2016/17</td>\n",
       "      <td>2017-02-17</td>\n",
       "      <td>Melbourne Cricket Ground</td>\n",
       "      <td>1</td>\n",
       "      <td>0.4</td>\n",
       "      <td>Australia</td>\n",
       "      <td>Sri Lanka</td>\n",
       "      <td>M Klinger</td>\n",
       "      <td>AJ Finch</td>\n",
       "      <td>...</td>\n",
       "      <td>0</td>\n",
       "      <td>NaN</td>\n",
       "      <td>NaN</td>\n",
       "      <td>NaN</td>\n",
       "      <td>NaN</td>\n",
       "      <td>NaN</td>\n",
       "      <td>NaN</td>\n",
       "      <td>NaN</td>\n",
       "      <td>NaN</td>\n",
       "      <td>NaN</td>\n",
       "    </tr>\n",
       "    <tr>\n",
       "      <th>4</th>\n",
       "      <td>1001349</td>\n",
       "      <td>2016/17</td>\n",
       "      <td>2017-02-17</td>\n",
       "      <td>Melbourne Cricket Ground</td>\n",
       "      <td>1</td>\n",
       "      <td>0.5</td>\n",
       "      <td>Australia</td>\n",
       "      <td>Sri Lanka</td>\n",
       "      <td>M Klinger</td>\n",
       "      <td>AJ Finch</td>\n",
       "      <td>...</td>\n",
       "      <td>0</td>\n",
       "      <td>NaN</td>\n",
       "      <td>NaN</td>\n",
       "      <td>NaN</td>\n",
       "      <td>NaN</td>\n",
       "      <td>NaN</td>\n",
       "      <td>NaN</td>\n",
       "      <td>NaN</td>\n",
       "      <td>NaN</td>\n",
       "      <td>NaN</td>\n",
       "    </tr>\n",
       "  </tbody>\n",
       "</table>\n",
       "<p>5 rows × 22 columns</p>\n",
       "</div>"
      ],
      "text/plain": [
       "   match_id   season  start_date                     venue  innings  ball  \\\n",
       "0   1001349  2016/17  2017-02-17  Melbourne Cricket Ground        1   0.1   \n",
       "1   1001349  2016/17  2017-02-17  Melbourne Cricket Ground        1   0.2   \n",
       "2   1001349  2016/17  2017-02-17  Melbourne Cricket Ground        1   0.3   \n",
       "3   1001349  2016/17  2017-02-17  Melbourne Cricket Ground        1   0.4   \n",
       "4   1001349  2016/17  2017-02-17  Melbourne Cricket Ground        1   0.5   \n",
       "\n",
       "  batting_team bowling_team    striker non_striker  ... extras  wides  \\\n",
       "0    Australia    Sri Lanka   AJ Finch   M Klinger  ...      0    NaN   \n",
       "1    Australia    Sri Lanka   AJ Finch   M Klinger  ...      0    NaN   \n",
       "2    Australia    Sri Lanka   AJ Finch   M Klinger  ...      0    NaN   \n",
       "3    Australia    Sri Lanka  M Klinger    AJ Finch  ...      0    NaN   \n",
       "4    Australia    Sri Lanka  M Klinger    AJ Finch  ...      0    NaN   \n",
       "\n",
       "   noballs  byes  legbyes  penalty  wicket_type  player_dismissed  \\\n",
       "0      NaN   NaN      NaN      NaN          NaN               NaN   \n",
       "1      NaN   NaN      NaN      NaN          NaN               NaN   \n",
       "2      NaN   NaN      NaN      NaN          NaN               NaN   \n",
       "3      NaN   NaN      NaN      NaN          NaN               NaN   \n",
       "4      NaN   NaN      NaN      NaN          NaN               NaN   \n",
       "\n",
       "  other_wicket_type other_player_dismissed  \n",
       "0               NaN                    NaN  \n",
       "1               NaN                    NaN  \n",
       "2               NaN                    NaN  \n",
       "3               NaN                    NaN  \n",
       "4               NaN                    NaN  \n",
       "\n",
       "[5 rows x 22 columns]"
      ]
     },
     "execution_count": 3,
     "metadata": {},
     "output_type": "execute_result"
    }
   ],
   "source": [
    "df.head()"
   ]
  },
  {
   "cell_type": "code",
   "execution_count": 4,
   "id": "316db8ab",
   "metadata": {},
   "outputs": [],
   "source": [
    "matches_played_by_bowler = df.groupby('bowler')['match_id'].nunique()"
   ]
  },
  {
   "cell_type": "code",
   "execution_count": 5,
   "id": "4f976467",
   "metadata": {},
   "outputs": [
    {
     "data": {
      "text/plain": [
       "bowler\n",
       "Zohaib Khan               8\n",
       "Zohaib Sarwar             9\n",
       "Zulfiqar Babar           25\n",
       "Zulqarnain Haider         5\n",
       "Zulqarnain Haider (2)     1\n",
       "Name: match_id, dtype: int64"
      ]
     },
     "execution_count": 5,
     "metadata": {},
     "output_type": "execute_result"
    }
   ],
   "source": [
    "matches_played_by_bowler.tail()"
   ]
  },
  {
   "cell_type": "code",
   "execution_count": 6,
   "id": "efd324d4",
   "metadata": {},
   "outputs": [],
   "source": [
    "balls_bowled_by_bowler = df['bowler'].value_counts()"
   ]
  },
  {
   "cell_type": "code",
   "execution_count": 7,
   "id": "26a4ad30",
   "metadata": {},
   "outputs": [
    {
     "data": {
      "text/plain": [
       "DJ Bravo           10071\n",
       "SP Narine           9965\n",
       "Rashid Khan         8779\n",
       "Shakib Al Hasan     7016\n",
       "Imran Tahir         6685\n",
       "Name: bowler, dtype: int64"
      ]
     },
     "execution_count": 7,
     "metadata": {},
     "output_type": "execute_result"
    }
   ],
   "source": [
    "balls_bowled_by_bowler.head()"
   ]
  },
  {
   "cell_type": "code",
   "execution_count": 8,
   "id": "5bb031fe",
   "metadata": {},
   "outputs": [],
   "source": [
    "runs_conceded_by_bowler = df.groupby('bowler')[['runs_off_bat', 'extras']].sum().sum(axis=1)"
   ]
  },
  {
   "cell_type": "code",
   "execution_count": 9,
   "id": "639bf7b2",
   "metadata": {},
   "outputs": [
    {
     "data": {
      "text/plain": [
       "bowler\n",
       "A Ahmadhel         21\n",
       "A Amado            20\n",
       "A Andrews          64\n",
       "A Ashish Reddy    400\n",
       "A Ashok           485\n",
       "dtype: int64"
      ]
     },
     "execution_count": 9,
     "metadata": {},
     "output_type": "execute_result"
    }
   ],
   "source": [
    "runs_conceded_by_bowler.head()"
   ]
  },
  {
   "cell_type": "code",
   "execution_count": 11,
   "id": "0ff4fde2",
   "metadata": {},
   "outputs": [],
   "source": [
    "df['isPlayerOut'] = 0\n",
    "df['isPlayerOut'] = np.where(df['wicket_type'].notna(), 1, 0)"
   ]
  },
  {
   "cell_type": "code",
   "execution_count": 12,
   "id": "de547888",
   "metadata": {},
   "outputs": [],
   "source": [
    "wickets_by_bowler = df.groupby('bowler')['isPlayerOut'].sum()"
   ]
  },
  {
   "cell_type": "code",
   "execution_count": 13,
   "id": "7e59bea4",
   "metadata": {},
   "outputs": [
    {
     "data": {
      "text/plain": [
       "bowler\n",
       "A Ahmadhel         1\n",
       "A Amado            1\n",
       "A Andrews          5\n",
       "A Ashish Reddy    19\n",
       "A Ashok           25\n",
       "Name: isPlayerOut, dtype: int32"
      ]
     },
     "execution_count": 13,
     "metadata": {},
     "output_type": "execute_result"
    }
   ],
   "source": [
    "wickets_by_bowler.head()"
   ]
  },
  {
   "cell_type": "code",
   "execution_count": 14,
   "id": "9e40d119",
   "metadata": {},
   "outputs": [],
   "source": [
    "overs_bowled_by_bowler = balls_bowled_by_bowler // 6 + (balls_bowled_by_bowler % 6) / 6.0\n",
    "economy_rate_by_bowler = runs_conceded_by_bowler / overs_bowled_by_bowler"
   ]
  },
  {
   "cell_type": "code",
   "execution_count": 15,
   "id": "81650242",
   "metadata": {},
   "outputs": [
    {
     "data": {
      "text/plain": [
       "A Ahmadhel        10.500000\n",
       "A Amado            6.666667\n",
       "A Andrews          6.193548\n",
       "A Ashish Reddy     8.888889\n",
       "A Ashok            6.945107\n",
       "dtype: float64"
      ]
     },
     "execution_count": 15,
     "metadata": {},
     "output_type": "execute_result"
    }
   ],
   "source": [
    "economy_rate_by_bowler.head()"
   ]
  },
  {
   "cell_type": "code",
   "execution_count": 16,
   "id": "fc8b3b6f",
   "metadata": {},
   "outputs": [],
   "source": [
    "bowling_average_by_bowler = runs_conceded_by_bowler / wickets_by_bowler"
   ]
  },
  {
   "cell_type": "code",
   "execution_count": 17,
   "id": "d8a880cf",
   "metadata": {},
   "outputs": [
    {
     "data": {
      "text/plain": [
       "bowler\n",
       "A Ahmadhel        21.000000\n",
       "A Amado           20.000000\n",
       "A Andrews         12.800000\n",
       "A Ashish Reddy    21.052632\n",
       "A Ashok           19.400000\n",
       "dtype: float64"
      ]
     },
     "execution_count": 17,
     "metadata": {},
     "output_type": "execute_result"
    }
   ],
   "source": [
    "bowling_average_by_bowler.head()"
   ]
  },
  {
   "cell_type": "code",
   "execution_count": 18,
   "id": "01e2d9e6",
   "metadata": {},
   "outputs": [],
   "source": [
    "bowling_strike_rate_by_bowler = balls_bowled_by_bowler / wickets_by_bowler"
   ]
  },
  {
   "cell_type": "code",
   "execution_count": 19,
   "id": "eb34ad3b",
   "metadata": {},
   "outputs": [
    {
     "data": {
      "text/plain": [
       "A Ahmadhel        12.000000\n",
       "A Amado           18.000000\n",
       "A Andrews         12.400000\n",
       "A Ashish Reddy    14.210526\n",
       "A Ashok           16.760000\n",
       "dtype: float64"
      ]
     },
     "execution_count": 19,
     "metadata": {},
     "output_type": "execute_result"
    }
   ],
   "source": [
    "bowling_strike_rate_by_bowler.head()"
   ]
  },
  {
   "cell_type": "code",
   "execution_count": 24,
   "id": "ef427ad7",
   "metadata": {},
   "outputs": [],
   "source": [
    "bowler_stats_df = pd.DataFrame({\n",
    "    'bowler': matches_played_by_bowler.index,\n",
    "    'matches': matches_played_by_bowler.values,\n",
    "    'balls': balls_bowled_by_bowler.reindex(matches_played_by_bowler.index).fillna(0).astype(int),\n",
    "    'runs_conceded': runs_conceded_by_bowler.reindex(matches_played_by_bowler.index).fillna(0).astype(int),\n",
    "    'wickets': wickets_by_bowler.reindex(matches_played_by_bowler.index).fillna(0).astype(int),\n",
    "    'economy': economy_rate_by_bowler.reindex(matches_played_by_bowler.index).fillna(0).round(2),\n",
    "    'average': bowling_average_by_bowler.reindex(matches_played_by_bowler.index),\n",
    "    'strike_rate': bowling_strike_rate_by_bowler.reindex(matches_played_by_bowler.index)\n",
    "})"
   ]
  },
  {
   "cell_type": "code",
   "execution_count": 25,
   "id": "4d884892",
   "metadata": {},
   "outputs": [],
   "source": [
    "bowler_stats_df['average'].replace([np.inf, -np.inf], np.nan, inplace=True)\n",
    "bowler_stats_df['strike_rate'].replace([np.inf, -np.inf], np.nan, inplace=True)"
   ]
  },
  {
   "cell_type": "code",
   "execution_count": 26,
   "id": "cdb8c813",
   "metadata": {},
   "outputs": [],
   "source": [
    "bowler_stats_df.reset_index(drop=True, inplace=True)"
   ]
  },
  {
   "cell_type": "code",
   "execution_count": 27,
   "id": "06f35350",
   "metadata": {},
   "outputs": [
    {
     "data": {
      "text/html": [
       "<div>\n",
       "<style scoped>\n",
       "    .dataframe tbody tr th:only-of-type {\n",
       "        vertical-align: middle;\n",
       "    }\n",
       "\n",
       "    .dataframe tbody tr th {\n",
       "        vertical-align: top;\n",
       "    }\n",
       "\n",
       "    .dataframe thead th {\n",
       "        text-align: right;\n",
       "    }\n",
       "</style>\n",
       "<table border=\"1\" class=\"dataframe\">\n",
       "  <thead>\n",
       "    <tr style=\"text-align: right;\">\n",
       "      <th></th>\n",
       "      <th>bowler</th>\n",
       "      <th>matches</th>\n",
       "      <th>balls</th>\n",
       "      <th>runs_conceded</th>\n",
       "      <th>wickets</th>\n",
       "      <th>economy</th>\n",
       "      <th>average</th>\n",
       "      <th>strike_rate</th>\n",
       "    </tr>\n",
       "  </thead>\n",
       "  <tbody>\n",
       "    <tr>\n",
       "      <th>0</th>\n",
       "      <td>A Ahmadhel</td>\n",
       "      <td>2</td>\n",
       "      <td>12</td>\n",
       "      <td>21</td>\n",
       "      <td>1</td>\n",
       "      <td>10.50</td>\n",
       "      <td>21.000000</td>\n",
       "      <td>12.000000</td>\n",
       "    </tr>\n",
       "    <tr>\n",
       "      <th>1</th>\n",
       "      <td>A Amado</td>\n",
       "      <td>2</td>\n",
       "      <td>18</td>\n",
       "      <td>20</td>\n",
       "      <td>1</td>\n",
       "      <td>6.67</td>\n",
       "      <td>20.000000</td>\n",
       "      <td>18.000000</td>\n",
       "    </tr>\n",
       "    <tr>\n",
       "      <th>2</th>\n",
       "      <td>A Andrews</td>\n",
       "      <td>3</td>\n",
       "      <td>62</td>\n",
       "      <td>64</td>\n",
       "      <td>5</td>\n",
       "      <td>6.19</td>\n",
       "      <td>12.800000</td>\n",
       "      <td>12.400000</td>\n",
       "    </tr>\n",
       "    <tr>\n",
       "      <th>3</th>\n",
       "      <td>A Ashish Reddy</td>\n",
       "      <td>20</td>\n",
       "      <td>270</td>\n",
       "      <td>400</td>\n",
       "      <td>19</td>\n",
       "      <td>8.89</td>\n",
       "      <td>21.052632</td>\n",
       "      <td>14.210526</td>\n",
       "    </tr>\n",
       "    <tr>\n",
       "      <th>4</th>\n",
       "      <td>A Ashok</td>\n",
       "      <td>20</td>\n",
       "      <td>419</td>\n",
       "      <td>485</td>\n",
       "      <td>25</td>\n",
       "      <td>6.95</td>\n",
       "      <td>19.400000</td>\n",
       "      <td>16.760000</td>\n",
       "    </tr>\n",
       "  </tbody>\n",
       "</table>\n",
       "</div>"
      ],
      "text/plain": [
       "           bowler  matches  balls  runs_conceded  wickets  economy    average  \\\n",
       "0      A Ahmadhel        2     12             21        1    10.50  21.000000   \n",
       "1         A Amado        2     18             20        1     6.67  20.000000   \n",
       "2       A Andrews        3     62             64        5     6.19  12.800000   \n",
       "3  A Ashish Reddy       20    270            400       19     8.89  21.052632   \n",
       "4         A Ashok       20    419            485       25     6.95  19.400000   \n",
       "\n",
       "   strike_rate  \n",
       "0    12.000000  \n",
       "1    18.000000  \n",
       "2    12.400000  \n",
       "3    14.210526  \n",
       "4    16.760000  "
      ]
     },
     "execution_count": 27,
     "metadata": {},
     "output_type": "execute_result"
    }
   ],
   "source": [
    "bowler_stats_df.head()"
   ]
  },
  {
   "cell_type": "code",
   "execution_count": 28,
   "id": "a56ee040",
   "metadata": {},
   "outputs": [],
   "source": [
    "bowler_stats_df.to_csv('bowler_stats.csv', index=False)"
   ]
  },
  {
   "cell_type": "code",
   "execution_count": null,
   "id": "f7ccf82e",
   "metadata": {},
   "outputs": [],
   "source": []
  }
 ],
 "metadata": {
  "kernelspec": {
   "display_name": "Python 3 (ipykernel)",
   "language": "python",
   "name": "python3"
  },
  "language_info": {
   "codemirror_mode": {
    "name": "ipython",
    "version": 3
   },
   "file_extension": ".py",
   "mimetype": "text/x-python",
   "name": "python",
   "nbconvert_exporter": "python",
   "pygments_lexer": "ipython3",
   "version": "3.11.4"
  }
 },
 "nbformat": 4,
 "nbformat_minor": 5
}
