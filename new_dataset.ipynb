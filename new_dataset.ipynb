{
 "cells": [
  {
   "cell_type": "code",
   "execution_count": 109,
   "id": "38a42418",
   "metadata": {},
   "outputs": [],
   "source": [
    "import pandas as pd\n",
    "import numpy as np"
   ]
  },
  {
   "cell_type": "code",
   "execution_count": 110,
   "id": "256f2775",
   "metadata": {},
   "outputs": [],
   "source": [
    "df = pd.read_csv('all_matches.csv')"
   ]
  },
  {
   "cell_type": "code",
   "execution_count": 111,
   "id": "5d86ef7a",
   "metadata": {},
   "outputs": [],
   "source": [
    "del df['season']\n",
    "del df['start_date']\n",
    "del df['byes']\n",
    "del df['legbyes']\n",
    "del df['penalty']\n",
    "del df['other_wicket_type']\n",
    "del df['other_player_dismissed']"
   ]
  },
  {
   "cell_type": "code",
   "execution_count": 112,
   "id": "c2878c51",
   "metadata": {},
   "outputs": [
    {
     "name": "stderr",
     "output_type": "stream",
     "text": [
      "C:\\Users\\manis\\AppData\\Local\\Temp\\ipykernel_18264\\1453258014.py:28: FutureWarning: Not prepending group keys to the result index of transform-like apply. In the future, the group keys will be included in the index, regardless of whether the applied function returns a like-indexed object.\n",
      "To preserve the previous behavior, use\n",
      "\n",
      "\t>>> .groupby(..., group_keys=False)\n",
      "\n",
      "To adopt the future behavior and silence this warning, use \n",
      "\n",
      "\t>>> .groupby(..., group_keys=True)\n",
      "  df = df.groupby(['match_id', 'innings']).apply(calculate_over_ball).reset_index(drop=True)\n"
     ]
    }
   ],
   "source": [
    "df['ball'] = None\n",
    "\n",
    "# Define a function to apply to each group\n",
    "def calculate_over_ball(group):\n",
    "    # Initialize current over and ball for each group\n",
    "    current_over = 0\n",
    "    current_ball = 1\n",
    "\n",
    "    # Iterate over the rows in the group\n",
    "    for index, row in group.iterrows():\n",
    "        wides = row['wides']  # Assuming 'wides' column exists\n",
    "        noballs = row['noballs']  # Assuming 'noballs' column exists\n",
    "\n",
    "        # Set the 'ball' column with the current over and ball\n",
    "        group.at[index, 'ball'] = f\"{current_over}.{current_ball}\"\n",
    "\n",
    "        # If the delivery is legal, increment the balls\n",
    "        if pd.isna(wides) and pd.isna(noballs):  # NaN values indicating no wides or no-balls\n",
    "            if current_ball == 6:\n",
    "                current_over += 1\n",
    "                current_ball = 1\n",
    "            else:\n",
    "                current_ball += 1\n",
    "\n",
    "    return group\n",
    "\n",
    "# Group by 'match_id' and 'innings' and apply the calculate_over_ball function\n",
    "df = df.groupby(['match_id', 'innings']).apply(calculate_over_ball).reset_index(drop=True)"
   ]
  },
  {
   "cell_type": "code",
   "execution_count": 113,
   "id": "25230b01",
   "metadata": {},
   "outputs": [],
   "source": [
    "innings1_runs = df[df['innings'] == 1].groupby('match_id').apply(lambda x: x['runs_off_bat'].sum() + x['extras'].sum() + 1)\n",
    "\n",
    "df['target'] = df.apply(lambda x: innings1_runs.get(x['match_id']) if x['innings'] == 2 else 0, axis=1)"
   ]
  },
  {
   "cell_type": "code",
   "execution_count": 114,
   "id": "0ee680b6",
   "metadata": {},
   "outputs": [],
   "source": [
    "df.rename(columns={'ball': 'overs'}, inplace=True)\n",
    "\n",
    "df['over'] = df['overs'].apply(lambda x: int(x.split('.')[0]))\n",
    "df['ball'] = df['overs'].apply(lambda x: int(x.split('.')[1]))"
   ]
  },
  {
   "cell_type": "code",
   "execution_count": 115,
   "id": "a3fe5f26",
   "metadata": {},
   "outputs": [],
   "source": [
    "df['isPlayerOut'] = 0\n",
    " \n",
    "df.loc[df['player_dismissed'].isna(), 'isPlayerOut'] = 0\n",
    "df.loc[df['player_dismissed'].notna(), 'isPlayerOut'] = 1"
   ]
  },
  {
   "cell_type": "code",
   "execution_count": 116,
   "id": "395bd012",
   "metadata": {},
   "outputs": [],
   "source": [
    "df['striker_total_runs'] = 0\n",
    "df['non_striker_total_runs'] = 0"
   ]
  },
  {
   "cell_type": "code",
   "execution_count": 117,
   "id": "60619a23",
   "metadata": {},
   "outputs": [],
   "source": [
    "player_runs = {}\n",
    "\n",
    "df['striker_total_runs'] = 0\n",
    "df['non_striker_total_runs'] = 0\n",
    "\n",
    "for i, row in df.iterrows():\n",
    "    striker = row['striker']\n",
    "    non_striker = row['non_striker']\n",
    "    runs_off_bat = row['runs_off_bat']\n",
    "    isPlayerOut = row['isPlayerOut']\n",
    "\n",
    "    player_runs[striker] = player_runs.get(striker, 0) + runs_off_bat\n",
    "    player_runs[non_striker] = player_runs.get(non_striker, 0)\n",
    "\n",
    "    df.at[i, 'striker_total_runs'] = player_runs[striker]\n",
    "    df.at[i, 'non_striker_total_runs'] = player_runs[non_striker]\n",
    "\n",
    "    if isPlayerOut:\n",
    "        if i < len(df) - 1: \n",
    "            next_row = df.iloc[i + 1]\n",
    "            if next_row['striker'] != striker:\n",
    "                player_runs[striker] = 0\n",
    "            if next_row['non_striker'] != non_striker:\n",
    "                player_runs[non_striker] = 0"
   ]
  },
  {
   "cell_type": "code",
   "execution_count": 118,
   "id": "907f1c79",
   "metadata": {},
   "outputs": [],
   "source": [
    "if 'extras' not in df.columns:\n",
    "    df['extras'] = 0\n",
    "else:\n",
    "    df['extras'] = df['extras'].fillna(0).astype(int)\n",
    "\n",
    "df['bowler_wickets'] = 0\n",
    "df['bowler_runs'] = 0\n",
    "\n",
    "bowler_stats = {}\n",
    "\n",
    "for i, row in df.iterrows():\n",
    "    match_id = row['match_id']\n",
    "    innings = row['innings']\n",
    "    bowler = row['bowler']\n",
    "    runs_conceded = row['runs_off_bat'] + row['extras']\n",
    "    is_wicket = row['isPlayerOut']\n",
    "\n",
    "    if (match_id, innings, bowler) not in bowler_stats:\n",
    "        bowler_stats[(match_id, innings, bowler)] = {'wickets': 0, 'runs': 0}\n",
    "\n",
    "    bowler_stats[(match_id, innings, bowler)]['runs'] += runs_conceded\n",
    "    if is_wicket:\n",
    "        bowler_stats[(match_id, innings, bowler)]['wickets'] += 1\n",
    "\n",
    "    df.at[i, 'bowler_wickets'] = bowler_stats[(match_id, innings, bowler)]['wickets']\n",
    "    df.at[i, 'bowler_runs'] = bowler_stats[(match_id, innings, bowler)]['runs']"
   ]
  },
  {
   "cell_type": "code",
   "execution_count": 119,
   "id": "4c5b3531",
   "metadata": {},
   "outputs": [],
   "source": [
    "df['team_score'] = (df['runs_off_bat'] + df['extras']).groupby([df['match_id'], df['innings']]).cumsum()"
   ]
  },
  {
   "cell_type": "code",
   "execution_count": 120,
   "id": "b327b898",
   "metadata": {},
   "outputs": [],
   "source": [
    "df['team_wickets'] = df.groupby(['match_id', 'innings'])['isPlayerOut'].cumsum()"
   ]
  },
  {
   "cell_type": "code",
   "execution_count": 121,
   "id": "9d694ed6",
   "metadata": {},
   "outputs": [],
   "source": [
    "df['striker_balls'] = 0\n",
    "df['non_striker_balls'] = 0\n",
    "\n",
    "player_balls = {}\n",
    "\n",
    "current_striker = None\n",
    "current_non_striker = None\n",
    "\n",
    "def swap_balls():\n",
    "    global current_striker, current_non_striker\n",
    "    current_striker, current_non_striker = current_non_striker, current_striker\n",
    "\n",
    "for i in range(len(df)):\n",
    "    row = df.iloc[i]\n",
    "    \n",
    "    if current_striker != row['striker'] or current_striker is None:\n",
    "        if current_striker is not None:\n",
    "            swap_balls()\n",
    "        current_striker = row['striker']\n",
    "        current_non_striker = row['non_striker']\n",
    "        if current_striker not in player_balls:\n",
    "            player_balls[current_striker] = 0\n",
    "        if current_non_striker not in player_balls:\n",
    "            player_balls[current_non_striker] = 0\n",
    "    \n",
    "    player_balls[current_striker] += 1\n",
    "    \n",
    "    df.at[i, 'striker_balls'] = player_balls[current_striker]\n",
    "    df.at[i, 'non_striker_balls'] = player_balls[current_non_striker]\n",
    "\n",
    "    if row['isPlayerOut'] == 1 and i < len(df) - 1:\n",
    "        next_row = df.iloc[i + 1]\n",
    "        if current_striker != next_row['striker']:\n",
    "            player_balls[current_striker] = 0\n",
    "        elif current_non_striker != next_row['non_striker']:\n",
    "            player_balls[current_non_striker] = 0"
   ]
  },
  {
   "cell_type": "code",
   "execution_count": 122,
   "id": "f9ef7e26",
   "metadata": {},
   "outputs": [],
   "source": [
    "df['batsman_4s'] = 0\n",
    "df['batsman_6s'] = 0\n",
    "\n",
    "player_4s = {}\n",
    "player_6s = {}\n",
    "\n",
    "for i, row in df.iterrows():\n",
    "    striker = row['striker']\n",
    "    runs_off_bat = row['runs_off_bat']\n",
    "\n",
    "    if striker not in player_4s:\n",
    "        player_4s[striker] = 0\n",
    "    if striker not in player_6s:\n",
    "        player_6s[striker] = 0\n",
    "\n",
    "    if runs_off_bat == 4:\n",
    "        player_4s[striker] += 1\n",
    "    elif runs_off_bat == 6:\n",
    "        player_6s[striker] += 1\n",
    "\n",
    "    df.at[i, 'batsman_4s'] = player_4s[striker]\n",
    "    df.at[i, 'batsman_6s'] = player_6s[striker]"
   ]
  },
  {
   "cell_type": "code",
   "execution_count": 123,
   "id": "404537d3",
   "metadata": {},
   "outputs": [],
   "source": [
    "df['bowler_balls_bowled'] = 0\n",
    "\n",
    "bowler_balls = {}\n",
    "\n",
    "for i, row in df.iterrows():\n",
    "    match_id = row['match_id']\n",
    "    innings = row['innings']\n",
    "    bowler = row['bowler']\n",
    "\n",
    "    if (match_id, innings, bowler) not in bowler_balls:\n",
    "        bowler_balls[(match_id, innings, bowler)] = 0\n",
    "\n",
    "    bowler_balls[(match_id, innings, bowler)] += 1\n",
    "\n",
    "    df.at[i, 'bowler_balls_bowled'] = bowler_balls[(match_id, innings, bowler)]"
   ]
  },
  {
   "cell_type": "code",
   "execution_count": 124,
   "id": "9cfb1c10",
   "metadata": {},
   "outputs": [],
   "source": [
    "df['remaining_wickets'] = 10\n",
    "\n",
    "wickets_remaining = {}\n",
    "\n",
    "for i, row in df.iterrows():\n",
    "    match_id = row['match_id']\n",
    "    innings = row['innings']\n",
    "    is_player_out = row['isPlayerOut']\n",
    "\n",
    "    if (match_id, innings) not in wickets_remaining:\n",
    "        wickets_remaining[(match_id, innings)] = 10\n",
    "\n",
    "    if is_player_out == 1:\n",
    "        wickets_remaining[(match_id, innings)] -= 1\n",
    "\n",
    "    df.at[i, 'remaining_wickets'] = wickets_remaining[(match_id, innings)]"
   ]
  },
  {
   "cell_type": "code",
   "execution_count": 125,
   "id": "0cc95a18",
   "metadata": {},
   "outputs": [],
   "source": [
    "df['remaining_balls'] = 120\n",
    "\n",
    "balls_remaining = {}\n",
    "\n",
    "for i, row in df.iterrows():\n",
    "    match_id = row['match_id']\n",
    "    innings = row['innings']\n",
    "    wides = row['wides']\n",
    "    noballs = row['noballs']\n",
    "\n",
    "    if (match_id, innings) not in balls_remaining:\n",
    "        balls_remaining[(match_id, innings)] = 120\n",
    "\n",
    "    if pd.isna(wides) and pd.isna(noballs):\n",
    "        balls_remaining[(match_id, innings)] -= 1\n",
    "\n",
    "    df.at[i, 'remaining_balls'] = balls_remaining[(match_id, innings)]"
   ]
  },
  {
   "cell_type": "code",
   "execution_count": 126,
   "id": "73612586",
   "metadata": {},
   "outputs": [],
   "source": [
    "df['runs_to_win'] = 0\n",
    "\n",
    "def calculate_runs_to_win(row):\n",
    "    if row['innings'] == 2:\n",
    "        return max(row['target'] - row['team_score'], 0)\n",
    "    else:\n",
    "        return 0\n",
    "\n",
    "df['runs_to_win'] = df.apply(calculate_runs_to_win, axis=1)\n",
    "df['runs_to_win'] = df['runs_to_win'].astype(int)"
   ]
  },
  {
   "cell_type": "code",
   "execution_count": 132,
   "id": "96716ba4",
   "metadata": {},
   "outputs": [],
   "source": [
    "df['total_runs'] = df['runs_off_bat'] + df['extras']\n",
    "df['runs_last_18_balls'] = df.groupby(['match_id', 'innings'])['total_runs'].transform(\n",
    "    lambda group: group.rolling(window=18, min_periods=1).sum()\n",
    ")\n",
    "df['runs_last_18_balls'] = df['runs_last_18_balls'].fillna(0)\n",
    "df['runs_last_18_balls'] = df['runs_last_18_balls'].astype(int)"
   ]
  },
  {
   "cell_type": "code",
   "execution_count": 136,
   "id": "ea4cb25e",
   "metadata": {},
   "outputs": [],
   "source": [
    "df['wickets_last_18_balls'] = df.groupby(['match_id', 'innings'])['isPlayerOut'].transform(\n",
    "    lambda x: x.rolling(window=18, min_periods=1).sum()\n",
    ")\n",
    "df['wickets_last_18_balls'] = df['wickets_last_18_balls'].astype(int)"
   ]
  },
  {
   "cell_type": "code",
   "execution_count": 137,
   "id": "245b82c5",
   "metadata": {},
   "outputs": [
    {
     "data": {
      "text/plain": [
       "match_id                    int64\n",
       "venue                      object\n",
       "innings                     int64\n",
       "overs                      object\n",
       "batting_team               object\n",
       "bowling_team               object\n",
       "striker                    object\n",
       "non_striker                object\n",
       "bowler                     object\n",
       "runs_off_bat                int64\n",
       "extras                      int32\n",
       "wides                     float64\n",
       "noballs                   float64\n",
       "wicket_type                object\n",
       "player_dismissed           object\n",
       "target                      int64\n",
       "over                        int64\n",
       "ball                        int64\n",
       "isPlayerOut                 int64\n",
       "striker_total_runs          int64\n",
       "non_striker_total_runs      int64\n",
       "bowler_wickets              int64\n",
       "bowler_runs                 int64\n",
       "team_score                  int64\n",
       "team_wickets                int64\n",
       "striker_balls               int64\n",
       "non_striker_balls           int64\n",
       "batsman_4s                  int64\n",
       "batsman_6s                  int64\n",
       "bowler_balls_bowled         int64\n",
       "remaining_wickets           int64\n",
       "remaining_balls             int64\n",
       "runs_to_win                 int32\n",
       "total_runs                  int64\n",
       "runs_last_18_balls          int32\n",
       "wickets_last_18_balls       int32\n",
       "dtype: object"
      ]
     },
     "execution_count": 137,
     "metadata": {},
     "output_type": "execute_result"
    }
   ],
   "source": [
    "df.dtypes"
   ]
  },
  {
   "cell_type": "code",
   "execution_count": 138,
   "id": "b5f18639",
   "metadata": {},
   "outputs": [],
   "source": [
    "new_order = ['match_id', 'venue', 'innings', 'over', 'ball', 'batting_team', 'bowling_team', 'striker', 'non_striker',\n",
    "            'bowler', 'runs_off_bat', 'extras', 'wicket_type', 'target', 'isPlayerOut', 'striker_total_runs',\n",
    "            'non_striker_total_runs', 'striker_balls', 'non_striker_balls', 'batsman_4s', 'batsman_6s',\n",
    "             'bowler_wickets', 'bowler_runs', 'bowler_balls_bowled', 'team_score', 'team_wickets', 'remaining_wickets',\n",
    "            'remaining_balls', 'runs_to_win', 'runs_last_18_balls', 'wickets_last_18_balls']"
   ]
  },
  {
   "cell_type": "code",
   "execution_count": 139,
   "id": "d2c9fa57",
   "metadata": {},
   "outputs": [],
   "source": [
    "df = df[new_order]"
   ]
  },
  {
   "cell_type": "code",
   "execution_count": 141,
   "id": "7147bc9c",
   "metadata": {},
   "outputs": [],
   "source": [
    "df.to_csv('new_dataset.csv', index=False)"
   ]
  },
  {
   "cell_type": "code",
   "execution_count": null,
   "id": "f5bd507e",
   "metadata": {},
   "outputs": [],
   "source": []
  }
 ],
 "metadata": {
  "kernelspec": {
   "display_name": "Python 3 (ipykernel)",
   "language": "python",
   "name": "python3"
  },
  "language_info": {
   "codemirror_mode": {
    "name": "ipython",
    "version": 3
   },
   "file_extension": ".py",
   "mimetype": "text/x-python",
   "name": "python",
   "nbconvert_exporter": "python",
   "pygments_lexer": "ipython3",
   "version": "3.11.8"
  }
 },
 "nbformat": 4,
 "nbformat_minor": 5
}
